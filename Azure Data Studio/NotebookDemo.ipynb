{
    "metadata": {
        "kernelspec": {
            "name": "SQL",
            "display_name": "SQL",
            "language": "sql"
        },
        "language_info": {
            "name": "sql",
            "version": ""
        }
    },
    "nbformat_minor": 2,
    "nbformat": 4,
    "cells": [
        {
            "cell_type": "markdown",
            "source": [
                "# 📙 What is a Notebook?\r\n",
                "\r\n",
                "A document based on [Jupyter Open Source software](https://jupyter.org/) , that allows you to create and share documents with live code and results.\r\n",
                "\r\n",
                "The text is formatted using MD Language (MarkDown, the same used in GitHub to create the readme files).\r\n",
                "\r\n",
                "You can find a useful Markdown reference here: https://github.com/adam-p/markdown-here/wiki/Markdown-Cheatsheet\r\n",
                "\r\n",
                ""
            ],
            "metadata": {
                "azdata_cell_guid": "36a217c6-bc73-45bf-a262-f2fe9ccee7c1"
            }
        },
        {
            "cell_type": "markdown",
            "source": [
                "## This is a sample SQL Server code running on a notebook:"
            ],
            "metadata": {
                "azdata_cell_guid": "789522af-b87b-4b61-9021-6ee54be691b2"
            }
        },
        {
            "cell_type": "code",
            "source": [
                "SELECT @@VERSION as [Version];\r\n",
                "GO"
            ],
            "metadata": {
                "azdata_cell_guid": "770213fb-77c3-4319-8557-43725d0b5119"
            },
            "outputs": [],
            "execution_count": 1
        },
        {
            "cell_type": "markdown",
            "source": [
                "## You can also use snippets on the code, as in the following example:"
            ],
            "metadata": {
                "azdata_cell_guid": "b99e6e12-6d23-49ec-a36e-53add07bb2e3"
            }
        },
        {
            "cell_type": "code",
            "source": [
                "-- just type SQL in the next line to open the snippet menu:\r\n",
                ""
            ],
            "metadata": {
                "azdata_cell_guid": "bad8023c-0ab6-497d-9fc5-98b377ec4307"
            },
            "outputs": [],
            "execution_count": 0
        },
        {
            "cell_type": "markdown",
            "source": [
                "HTML Code is also allowed as on this example:<br/><br/> <a href=\"command:workbench.action.terminal.focus\">Open Terminal</a> with this you can also run PowerShell Scripts via Notebooks<br/><br/>"
            ],
            "metadata": {
                "azdata_cell_guid": "b3920088-e77d-44e2-9ab4-0051dd820886"
            }
        }
    ]
}