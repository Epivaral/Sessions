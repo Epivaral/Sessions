{
    "metadata": {
        "kernelspec": {
            "name": "SQL",
            "display_name": "SQL",
            "language": "sql"
        },
        "language_info": {
            "name": "sql",
            "version": ""
        }
    },
    "nbformat_minor": 2,
    "nbformat": 4,
    "cells": [
        {
            "cell_type": "markdown",
            "source": [
                ""
            ],
            "metadata": {
                "azdata_cell_guid": "f31396a8-6162-4df4-96bf-32547c1e841e"
            }
        },
        {
            "cell_type": "markdown",
            "source": [
                "# 📙 What is a Notebook?\n",
                "\n",
                "A document based on [Jupyter Open Source software](https://jupyter.org/ \"https://jupyter.org/\") , that allows you to create and share documents with live code and results.\n",
                "\n",
                "The text is formatted using MD Language (MarkDown, the same used in GitHub to create the readme files).\n",
                "\n",
                "You can find a useful Markdown reference here: [https://github.com/adam-p/markdown-here/wiki/Markdown-Cheatsheet](https://github.com/adam-p/markdown-here/wiki/Markdown-Cheatsheet \"https://github.com/adam-p/markdown-here/wiki/Markdown-Cheatsheet\")\n",
                "\n",
                "On latest release you can edit your notebook using rich text format, also you can copy/paste formatted text and images.\n",
                "\n",
                "Try copy anything from a web page:\n",
                "\n",
                "\\------------------------------"
            ],
            "metadata": {
                "azdata_cell_guid": "36a217c6-bc73-45bf-a262-f2fe9ccee7c1"
            }
        },
        {
            "cell_type": "markdown",
            "source": [
                "## This is a sample SQL Server code running on a notebook:"
            ],
            "metadata": {
                "azdata_cell_guid": "789522af-b87b-4b61-9021-6ee54be691b2"
            }
        },
        {
            "cell_type": "code",
            "source": [
                "SELECT @@VERSION as [Version];\r\n",
                "GO"
            ],
            "metadata": {
                "azdata_cell_guid": "770213fb-77c3-4319-8557-43725d0b5119"
            },
            "outputs": [
                {
                    "output_type": "display_data",
                    "data": {
                        "text/html": "(1 row affected)"
                    },
                    "metadata": {}
                },
                {
                    "output_type": "display_data",
                    "data": {
                        "text/html": "Total execution time: 00:00:00.006"
                    },
                    "metadata": {}
                },
                {
                    "output_type": "execute_result",
                    "metadata": {},
                    "execution_count": 1,
                    "data": {
                        "application/vnd.dataresource+json": {
                            "schema": {
                                "fields": [
                                    {
                                        "name": "Version"
                                    }
                                ]
                            },
                            "data": [
                                {
                                    "0": "Microsoft SQL Server 2019 (RTM-CU1) (KB4527376) - 15.0.4003.23 (X64) \n\tDec  6 2019 14:53:33 \n\tCopyright (C) 2019 Microsoft Corporation\n\tDeveloper Edition (64-bit) on Windows 10 Home 10.0 <X64> (Build 18363: )\n"
                                }
                            ]
                        },
                        "text/html": [
                            "<table>",
                            "<tr><th>Version</th></tr>",
                            "<tr><td>Microsoft SQL Server 2019 (RTM-CU1) (KB4527376) - 15.0.4003.23 (X64) \n\tDec  6 2019 14:53:33 \n\tCopyright (C) 2019 Microsoft Corporation\n\tDeveloper Edition (64-bit) on Windows 10 Home 10.0 &lt;X64&gt; (Build 18363: )\n</td></tr>",
                            "</table>"
                        ]
                    },
                    "batchId": 0,
                    "id": 0,
                    "queryRunnerUri": "queryRunner-untitled:notebook-editor-4"
                }
            ],
            "execution_count": 1
        },
        {
            "cell_type": "markdown",
            "source": [
                "## You can also use snippets on the code, as in the following example:"
            ],
            "metadata": {
                "azdata_cell_guid": "b99e6e12-6d23-49ec-a36e-53add07bb2e3"
            }
        },
        {
            "cell_type": "code",
            "source": [
                "-- just type SQL in the next line to open the snippet menu:\r\n",
                ""
            ],
            "metadata": {
                "azdata_cell_guid": "bad8023c-0ab6-497d-9fc5-98b377ec4307"
            },
            "outputs": [],
            "execution_count": null
        },
        {
            "cell_type": "markdown",
            "source": [
                "HTML Code is also allowed as on this example:<br/><br/> <a href=\"command:workbench.action.terminal.focus\">Open Terminal</a> with this you can also run PowerShell Scripts via Notebooks<br/><br/>"
            ],
            "metadata": {
                "azdata_cell_guid": "b3920088-e77d-44e2-9ab4-0051dd820886"
            }
        }
    ]
}